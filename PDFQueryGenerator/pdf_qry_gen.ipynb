{
 "cells": [
  {
   "cell_type": "code",
   "execution_count": 1,
   "metadata": {},
   "outputs": [],
   "source": [
    "# installing through pip\n",
    "! pip install -q cassio datasets langchain openai tiktoken\n"
   ]
  },
  {
   "cell_type": "code",
   "execution_count": null,
   "metadata": {},
   "outputs": [],
   "source": [
    "# installing PyPDF2\n",
    "! pip install PyPDF2"
   ]
  },
  {
   "cell_type": "code",
   "execution_count": 13,
   "metadata": {},
   "outputs": [],
   "source": [
    "# importing langchain components\n",
    "import os\n",
    "from dotenv import load_dotenv\n",
    "from langchain.vectorstores.cassandra import Cassandra\n",
    "from langchain.indexes.vectorstore import VectorStoreIndexWrapper\n",
    "from langchain.llms import OpenAI\n",
    "from langchain.embeddings import OpenAIEmbeddings\n",
    "\n",
    "# dataset retrieval with HuggingFace\n",
    "from datasets import load_dataset\n",
    "\n",
    "# cassio powering the AstraDB to integrate with Langchain\n",
    "# we will also initialize the db connection\n",
    "import cassio\n",
    "\n",
    "# importing PdfReader from PyPDF2\n",
    "from PyPDF2 import PdfReader"
   ]
  },
  {
   "cell_type": "code",
   "execution_count": 14,
   "metadata": {},
   "outputs": [],
   "source": [
    "load_dotenv()\n",
    "openai_api_key = os.getenv(\"OPENAI_API_KEY\")\n",
    "AstraDB_ID=os.getenv(\"AstraDB_ID\")\n",
    "AstraDB_Application_Token=os.getenv(\"AstraDB_Application_Token\")"
   ]
  },
  {
   "cell_type": "code",
   "execution_count": 15,
   "metadata": {},
   "outputs": [],
   "source": [
    "# setup and provide the secrets\n",
    "# we have to provide 3 important keys\n",
    "# first AstraDB_Application_Token\n",
    "# second AstraDB_ID and thirdly OPENAI_API_KEY\n",
    "AstraDB_Application_Token = AstraDB_Application_Token\n",
    "AstraDB_ID=AstraDB_ID\n",
    "OPENAI_API_KEY=openai_api_key"
   ]
  },
  {
   "cell_type": "code",
   "execution_count": 12,
   "metadata": {},
   "outputs": [],
   "source": [
    "# provide the path of the pdf file\n",
    "pdf_reader=PdfReader('budget.pdf')"
   ]
  },
  {
   "cell_type": "code",
   "execution_count": null,
   "metadata": {},
   "outputs": [],
   "source": []
  }
 ],
 "metadata": {
  "kernelspec": {
   "display_name": "Python 3",
   "language": "python",
   "name": "python3"
  },
  "language_info": {
   "codemirror_mode": {
    "name": "ipython",
    "version": 3
   },
   "file_extension": ".py",
   "mimetype": "text/x-python",
   "name": "python",
   "nbconvert_exporter": "python",
   "pygments_lexer": "ipython3",
   "version": "3.9.0"
  }
 },
 "nbformat": 4,
 "nbformat_minor": 2
}
