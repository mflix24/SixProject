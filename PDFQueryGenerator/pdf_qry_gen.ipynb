{
 "cells": [
  {
   "cell_type": "code",
   "execution_count": 1,
   "metadata": {},
   "outputs": [],
   "source": [
    "# installing through pip\n",
    "! pip install -q cassio datasets langchain openai tiktoken\n"
   ]
  },
  {
   "cell_type": "code",
   "execution_count": null,
   "metadata": {},
   "outputs": [],
   "source": [
    "# installing PyPDF2\n",
    "! pip install PyPDF2"
   ]
  },
  {
   "cell_type": "code",
   "execution_count": 21,
   "metadata": {},
   "outputs": [],
   "source": [
    "# importing langchain components\n",
    "import os\n",
    "from dotenv import load_dotenv\n",
    "from langchain.vectorstores.cassandra import Cassandra\n",
    "from langchain.indexes.vectorstore import VectorStoreIndexWrapper\n",
    "from langchain.llms import OpenAI\n",
    "from langchain.embeddings import OpenAIEmbeddings\n",
    "\n",
    "# dataset retrieval with HuggingFace\n",
    "from datasets import load_dataset\n",
    "\n",
    "# cassio powering the AstraDB to integrate with Langchain\n",
    "# we will also initialize the db connection\n",
    "import cassio\n",
    "\n",
    "# importing PdfReader from PyPDF2\n",
    "from PyPDF2 import PdfReader\n",
    "\n",
    "import warnings\n",
    "warnings.filterwarnings('ignore')"
   ]
  },
  {
   "cell_type": "code",
   "execution_count": 16,
   "metadata": {},
   "outputs": [],
   "source": [
    "load_dotenv()\n",
    "openai_api_key = os.getenv(\"OPENAI_API_KEY\")\n",
    "AstraDB_ID=os.getenv(\"AstraDB_ID\")\n",
    "AstraDB_Application_Token=os.getenv(\"AstraDB_Application_Token\")"
   ]
  },
  {
   "cell_type": "code",
   "execution_count": 18,
   "metadata": {},
   "outputs": [],
   "source": [
    "# setup and provide the secrets\n",
    "# we have to provide 3 important keys\n",
    "# first AstraDB_Application_Token\n",
    "# second AstraDB_ID and thirdly OPENAI_API_KEY\n",
    "AstraDB_Application_Token = AstraDB_Application_Token\n",
    "AstraDB_ID=AstraDB_ID\n",
    "OPENAI_API_KEY=openai_api_key"
   ]
  },
  {
   "cell_type": "code",
   "execution_count": 12,
   "metadata": {},
   "outputs": [],
   "source": [
    "# provide the path of the pdf file\n",
    "pdf_reader=PdfReader('budget.pdf')"
   ]
  },
  {
   "cell_type": "code",
   "execution_count": 19,
   "metadata": {},
   "outputs": [],
   "source": [
    "# reading text from PDF\n",
    "from typing_extensions import Concatenate\n",
    "raw_text=''\n",
    "for i, page in enumerate(pdf_reader.pages):\n",
    "    content=page.extract_text()\n",
    "    if content:\n",
    "        raw_text += content"
   ]
  },
  {
   "cell_type": "code",
   "execution_count": null,
   "metadata": {},
   "outputs": [],
   "source": [
    "# the data\n",
    "raw_text"
   ]
  },
  {
   "cell_type": "code",
   "execution_count": 23,
   "metadata": {},
   "outputs": [],
   "source": [
    "# initializing the connection with the database\n",
    "cassio.init(\n",
    "    token=AstraDB_Application_Token,\n",
    "    database_id=AstraDB_ID\n",
    ")"
   ]
  },
  {
   "cell_type": "code",
   "execution_count": 25,
   "metadata": {},
   "outputs": [],
   "source": [
    "# creating object of OpenAI()\n",
    "llm=OpenAI(openai_api_key=OPENAI_API_KEY)\n",
    "# creating the embedding through OpenAIEmbeddings()\n",
    "embedding=OpenAIEmbeddings(openai_api_key=OPENAI_API_KEY)"
   ]
  },
  {
   "cell_type": "code",
   "execution_count": 36,
   "metadata": {},
   "outputs": [],
   "source": [
    "# creatin the object of Cassandra() passing embedding parameter\n",
    "astra_vector_store=Cassandra(\n",
    "    embedding=embedding,\n",
    "    table_name='qa_mini_demo',\n",
    "    session=None,\n",
    "    keyspace=None\n",
    "    )\n"
   ]
  },
  {
   "cell_type": "code",
   "execution_count": 30,
   "metadata": {},
   "outputs": [],
   "source": [
    "# importing CharacterTextSplitter() and creating an object of it.\n",
    "from langchain.text_splitter import CharacterTextSplitter\n",
    "text_splitter=CharacterTextSplitter(\n",
    "    separator='\\n',\n",
    "    chunk_size=800,\n",
    "    chunk_overlap=200,\n",
    "    length_function=len  \n",
    ")\n",
    "texts=text_splitter.split_text(raw_text)"
   ]
  },
  {
   "cell_type": "code",
   "execution_count": null,
   "metadata": {},
   "outputs": [],
   "source": [
    "# showing output \n",
    "texts[:10]"
   ]
  },
  {
   "cell_type": "markdown",
   "metadata": {},
   "source": [
    "##### load the dataset into vector store"
   ]
  },
  {
   "cell_type": "code",
   "execution_count": 38,
   "metadata": {},
   "outputs": [
    {
     "name": "stdout",
     "output_type": "stream",
     "text": [
      "Inserted 8 headlines.\n"
     ]
    }
   ],
   "source": [
    "# now call the object as 'astra_vector_store' of the class Cassandra which was imported from the library as\n",
    "# from langchain.vectorstores.cassandra import Cassandra\n",
    "astra_vector_store.add_texts(texts[:50])\n",
    "print('Inserted %i headlines.' %len(texts[:50]))\n",
    "\n",
    "# creating an object of VectorStoreIndexWrapper() class\n",
    "astra_vector_index=VectorStoreIndexWrapper(vectorstore=astra_vector_store)"
   ]
  },
  {
   "cell_type": "code",
   "execution_count": null,
   "metadata": {},
   "outputs": [],
   "source": [
    "# Format to generate\n",
    "first_question=True\n",
    "while True:\n",
    "    if first_question:\n",
    "        query_text=input('\\nEnter your question (or type \"quit\" to exit): ').strip()\n",
    "    else:\n",
    "        query_text=input('\\nWhat is your next question (or type \"quit\" to exit): ').strip()\n",
    "    if query_text.lower() == 'quit':\n",
    "        break\n",
    "    if query_text == '':\n",
    "        continue\n",
    "    print('\\nQUESTION: \\\"%s\\\"' % query_text)\n",
    "    answer=astra_vector_index.query(\n",
    "        query_text,\n",
    "        llm=llm).strip()\n",
    "    print('\\nANSWER: \\\"%s\\\"\\n' % answer)\n",
    "    print('FIRST DOCUMENTS BY RELEVANCE:')\n",
    "    for doc,score in astra_vector_store.similarity_search_with_store(query_text,k=4):\n",
    "        print(\"   [%0.4f] \\\"%s ...\\\"\" % (score,doc.page_content[:84]))\n"
   ]
  },
  {
   "cell_type": "code",
   "execution_count": null,
   "metadata": {},
   "outputs": [],
   "source": [
    "# q1: What is the current GDP\n",
    "# q2: How much the agriculture target will be increased to and what the focus will be "
   ]
  }
 ],
 "metadata": {
  "kernelspec": {
   "display_name": "Python 3",
   "language": "python",
   "name": "python3"
  },
  "language_info": {
   "codemirror_mode": {
    "name": "ipython",
    "version": 3
   },
   "file_extension": ".py",
   "mimetype": "text/x-python",
   "name": "python",
   "nbconvert_exporter": "python",
   "pygments_lexer": "ipython3",
   "version": "3.9.0"
  }
 },
 "nbformat": 4,
 "nbformat_minor": 2
}
